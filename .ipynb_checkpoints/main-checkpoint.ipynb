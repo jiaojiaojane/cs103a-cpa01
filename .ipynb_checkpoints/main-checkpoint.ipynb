{
 "cells": [
  {
   "cell_type": "code",
   "execution_count": 2,
   "metadata": {},
   "outputs": [
    {
     "name": "stdout",
     "output_type": "stream",
     "text": [
      "   Survived  Pclass     Sex   Age  Siblings/Spouses  Parents/Children     Fare\n",
      "0         0       3    male  22.0                 1                 0   7.2500\n",
      "1         1       1  female  38.0                 1                 0  71.2833\n",
      "2         1       3  female  26.0                 0                 0   7.9250\n",
      "3         1       1  female  35.0                 1                 0  53.1000\n",
      "4         0       3    male  35.0                 0                 0   8.0500\n"
     ]
    }
   ],
   "source": [
    "import pandas as pd\n",
    "\n",
    "import matplotlib.pyplot as plt\n",
    "\n",
    "import numpy as np\n",
    "\n",
    "df = pd.read_csv(\"titanic.csv\")\n",
    "\n",
    "print(df.head(5))\n",
    "\n",
    "# This dataset describe the information of the Titanic.\n",
    "# https://www.kaggle.com/smv1999/titanic-minimal\n",
    "# Press the download button\n",
    "# I want to figure out the proportion of survived female vs. male, \n",
    "# the average age of both survived and unsurvived people, \n",
    "# number of people who lost relatives\n",
    "# The relationship of survival rate and passenger class (Pivot table)\n",
    "\n"
   ]
  },
  {
   "cell_type": "code",
   "execution_count": 3,
   "metadata": {},
   "outputs": [
    {
     "name": "stdout",
     "output_type": "stream",
     "text": [
      "         Survived      Pclass         Age  Siblings/Spouses  Parents/Children  \\\n",
      "count  887.000000  887.000000  887.000000        887.000000        887.000000   \n",
      "mean     0.385569    2.305524   29.471443          0.525366          0.383315   \n",
      "std      0.487004    0.836662   14.121908          1.104669          0.807466   \n",
      "min      0.000000    1.000000    0.420000          0.000000          0.000000   \n",
      "25%      0.000000    2.000000   20.250000          0.000000          0.000000   \n",
      "50%      0.000000    3.000000   28.000000          0.000000          0.000000   \n",
      "75%      1.000000    3.000000   38.000000          1.000000          0.000000   \n",
      "max      1.000000    3.000000   80.000000          8.000000          6.000000   \n",
      "\n",
      "            Fare  \n",
      "count  887.00000  \n",
      "mean    32.30542  \n",
      "std     49.78204  \n",
      "min      0.00000  \n",
      "25%      7.92500  \n",
      "50%     14.45420  \n",
      "75%     31.13750  \n",
      "max    512.32920  \n"
     ]
    }
   ],
   "source": [
    "print(df.describe())"
   ]
  },
  {
   "cell_type": "code",
   "execution_count": 4,
   "metadata": {},
   "outputs": [
    {
     "name": "stdout",
     "output_type": "stream",
     "text": [
      "Index(['Survived', 'Pclass', 'Sex', 'Age', 'Siblings/Spouses',\n",
      "       'Parents/Children', 'Fare'],\n",
      "      dtype='object')\n",
      "RangeIndex(start=0, stop=887, step=1)\n"
     ]
    }
   ],
   "source": [
    "print(df.columns)\n",
    "print(df.index)"
   ]
  },
  {
   "cell_type": "code",
   "execution_count": 5,
   "metadata": {},
   "outputs": [
    {
     "name": "stdout",
     "output_type": "stream",
     "text": [
      "     Survived  Pclass     Sex    Age  Siblings/Spouses  Parents/Children  \\\n",
      "799         1       3    male   0.42                 0                 1   \n",
      "751         1       2    male   0.67                 1                 1   \n",
      "641         1       3  female   0.75                 2                 1   \n",
      "466         1       3  female   0.75                 2                 1   \n",
      "827         1       2    male   0.83                 1                 1   \n",
      "..        ...     ...     ...    ...               ...               ...   \n",
      "115         0       3    male  70.50                 0                 0   \n",
      "490         0       1    male  71.00                 0                 0   \n",
      "95          0       1    male  71.00                 0                 0   \n",
      "847         0       3    male  74.00                 0                 0   \n",
      "627         1       1    male  80.00                 0                 0   \n",
      "\n",
      "        Fare  \n",
      "799   8.5167  \n",
      "751  14.5000  \n",
      "641  19.2583  \n",
      "466  19.2583  \n",
      "827  18.7500  \n",
      "..       ...  \n",
      "115   7.7500  \n",
      "490  49.5042  \n",
      "95   34.6542  \n",
      "847   7.7750  \n",
      "627  30.0000  \n",
      "\n",
      "[887 rows x 7 columns]\n"
     ]
    }
   ],
   "source": [
    "print(df.sort_values(by=[\"Age\"]))"
   ]
  },
  {
   "cell_type": "code",
   "execution_count": 6,
   "metadata": {},
   "outputs": [
    {
     "name": "stdout",
     "output_type": "stream",
     "text": [
      "     Survived  Pclass   Sex   Age  Siblings/Spouses  Parents/Children     Fare\n",
      "0           0       3  male  22.0                 1                 0   7.2500\n",
      "4           0       3  male  35.0                 0                 0   8.0500\n",
      "5           0       3  male  27.0                 0                 0   8.4583\n",
      "6           0       1  male  54.0                 0                 0  51.8625\n",
      "7           0       3  male   2.0                 3                 1  21.0750\n",
      "..        ...     ...   ...   ...               ...               ...      ...\n",
      "879         0       2  male  28.0                 0                 0  10.5000\n",
      "880         0       3  male  25.0                 0                 0   7.0500\n",
      "882         0       2  male  27.0                 0                 0  13.0000\n",
      "885         1       1  male  26.0                 0                 0  30.0000\n",
      "886         0       3  male  32.0                 0                 0   7.7500\n",
      "\n",
      "[573 rows x 7 columns]\n"
     ]
    }
   ],
   "source": [
    "#survived female vs. male\n",
    "sur_f = df[df[\"Sex\"] == \"female\"]\n",
    "sur_m = df[df[\"Sex\"] == \"male\"]\n",
    "print(sur_m)"
   ]
  },
  {
   "cell_type": "code",
   "execution_count": 7,
   "metadata": {},
   "outputs": [
    {
     "data": {
      "text/plain": [
       "<AxesSubplot:ylabel='Frequency'>"
      ]
     },
     "execution_count": 7,
     "metadata": {},
     "output_type": "execute_result"
    },
    {
     "data": {
      "image/png": "[encoded data removed]",
      "text/plain": [
       "<Figure size 432x288 with 1 Axes>"
      ]
     },
     "metadata": {
      "needs_background": "light"
     },
     "output_type": "display_data"
    }
   ],
   "source": [
    "#age range of passengers\n",
    "df[\"Age\"].plot(kind=\"hist\")"
   ]
  },
  {
   "cell_type": "code",
   "execution_count": 8,
   "metadata": {},
   "outputs": [
    {
     "data": {
      "text/html": [
       "<div>\n",
       "<style scoped>\n",
       "    .dataframe tbody tr th:only-of-type {\n",
       "        vertical-align: middle;\n",
       "    }\n",
       "\n",
       "    .dataframe tbody tr th {\n",
       "        vertical-align: top;\n",
       "    }\n",
       "\n",
       "    .dataframe thead th {\n",
       "        text-align: right;\n",
       "    }\n",
       "</style>\n",
       "<table border=\"1\" class=\"dataframe\">\n",
       "  <thead>\n",
       "    <tr style=\"text-align: right;\">\n",
       "      <th></th>\n",
       "      <th>Survived</th>\n",
       "      <th>Pclass</th>\n",
       "      <th>Siblings/Spouses</th>\n",
       "      <th>Parents/Children</th>\n",
       "      <th>Fare</th>\n",
       "    </tr>\n",
       "    <tr>\n",
       "      <th>Age</th>\n",
       "      <th></th>\n",
       "      <th></th>\n",
       "      <th></th>\n",
       "      <th></th>\n",
       "      <th></th>\n",
       "    </tr>\n",
       "  </thead>\n",
       "  <tbody>\n",
       "    <tr>\n",
       "      <th>0.42</th>\n",
       "      <td>1.0</td>\n",
       "      <td>3.0</td>\n",
       "      <td>0.0</td>\n",
       "      <td>1.0</td>\n",
       "      <td>8.5167</td>\n",
       "    </tr>\n",
       "    <tr>\n",
       "      <th>0.67</th>\n",
       "      <td>1.0</td>\n",
       "      <td>2.0</td>\n",
       "      <td>1.0</td>\n",
       "      <td>1.0</td>\n",
       "      <td>14.5000</td>\n",
       "    </tr>\n",
       "    <tr>\n",
       "      <th>0.75</th>\n",
       "      <td>1.0</td>\n",
       "      <td>3.0</td>\n",
       "      <td>2.0</td>\n",
       "      <td>1.0</td>\n",
       "      <td>19.2583</td>\n",
       "    </tr>\n",
       "    <tr>\n",
       "      <th>0.83</th>\n",
       "      <td>1.0</td>\n",
       "      <td>2.0</td>\n",
       "      <td>0.5</td>\n",
       "      <td>1.5</td>\n",
       "      <td>23.8750</td>\n",
       "    </tr>\n",
       "    <tr>\n",
       "      <th>0.92</th>\n",
       "      <td>1.0</td>\n",
       "      <td>1.0</td>\n",
       "      <td>1.0</td>\n",
       "      <td>2.0</td>\n",
       "      <td>151.5500</td>\n",
       "    </tr>\n",
       "    <tr>\n",
       "      <th>...</th>\n",
       "      <td>...</td>\n",
       "      <td>...</td>\n",
       "      <td>...</td>\n",
       "      <td>...</td>\n",
       "      <td>...</td>\n",
       "    </tr>\n",
       "    <tr>\n",
       "      <th>70.00</th>\n",
       "      <td>0.0</td>\n",
       "      <td>1.5</td>\n",
       "      <td>0.5</td>\n",
       "      <td>0.5</td>\n",
       "      <td>40.7500</td>\n",
       "    </tr>\n",
       "    <tr>\n",
       "      <th>70.50</th>\n",
       "      <td>0.0</td>\n",
       "      <td>3.0</td>\n",
       "      <td>0.0</td>\n",
       "      <td>0.0</td>\n",
       "      <td>7.7500</td>\n",
       "    </tr>\n",
       "    <tr>\n",
       "      <th>71.00</th>\n",
       "      <td>0.0</td>\n",
       "      <td>1.0</td>\n",
       "      <td>0.0</td>\n",
       "      <td>0.0</td>\n",
       "      <td>42.0792</td>\n",
       "    </tr>\n",
       "    <tr>\n",
       "      <th>74.00</th>\n",
       "      <td>0.0</td>\n",
       "      <td>3.0</td>\n",
       "      <td>0.0</td>\n",
       "      <td>0.0</td>\n",
       "      <td>7.7750</td>\n",
       "    </tr>\n",
       "    <tr>\n",
       "      <th>80.00</th>\n",
       "      <td>1.0</td>\n",
       "      <td>1.0</td>\n",
       "      <td>0.0</td>\n",
       "      <td>0.0</td>\n",
       "      <td>30.0000</td>\n",
       "    </tr>\n",
       "  </tbody>\n",
       "</table>\n",
       "<p>89 rows × 5 columns</p>\n",
       "</div>"
      ],
      "text/plain": [
       "       Survived  Pclass  Siblings/Spouses  Parents/Children      Fare\n",
       "Age                                                                  \n",
       "0.42        1.0     3.0               0.0               1.0    8.5167\n",
       "0.67        1.0     2.0               1.0               1.0   14.5000\n",
       "0.75        1.0     3.0               2.0               1.0   19.2583\n",
       "0.83        1.0     2.0               0.5               1.5   23.8750\n",
       "0.92        1.0     1.0               1.0               2.0  151.5500\n",
       "...         ...     ...               ...               ...       ...\n",
       "70.00       0.0     1.5               0.5               0.5   40.7500\n",
       "70.50       0.0     3.0               0.0               0.0    7.7500\n",
       "71.00       0.0     1.0               0.0               0.0   42.0792\n",
       "74.00       0.0     3.0               0.0               0.0    7.7750\n",
       "80.00       1.0     1.0               0.0               0.0   30.0000\n",
       "\n",
       "[89 rows x 5 columns]"
      ]
     },
     "execution_count": 8,
     "metadata": {},
     "output_type": "execute_result"
    }
   ],
   "source": [
    "df.groupby(['Age']).mean()"
   ]
  },
  {
   "cell_type": "code",
   "execution_count": 9,
   "metadata": {},
   "outputs": [
    {
     "name": "stdout",
     "output_type": "stream",
     "text": [
      "30.13853211009174\n",
      "28.408391812865496\n"
     ]
    }
   ],
   "source": [
    "#the average age of both survived and unsurvived people,\n",
    "survived = df[df[\"Survived\"] == 0]\n",
    "unsurvived = df[df[\"Survived\"] == 1]\n",
    "print(sum(survived[\"Age\"])/survived[\"Age\"].size)\n",
    "print(sum(unsurvived[\"Age\"])/unsurvived[\"Age\"].size)\n",
    "\n"
   ]
  },
  {
   "cell_type": "code",
   "execution_count": 10,
   "metadata": {},
   "outputs": [
    {
     "name": "stdout",
     "output_type": "stream",
     "text": [
      "321\n"
     ]
    }
   ],
   "source": [
    "#number of people who lost relatives\n",
    "total = sum(unsurvived[\"Siblings/Spouses\"]) + sum(unsurvived[\"Parents/Children\"])\n",
    "print(total)"
   ]
  },
  {
   "cell_type": "code",
   "execution_count": 11,
   "metadata": {},
   "outputs": [
    {
     "data": {
      "text/html": [
       "<div>\n",
       "<style scoped>\n",
       "    .dataframe tbody tr th:only-of-type {\n",
       "        vertical-align: middle;\n",
       "    }\n",
       "\n",
       "    .dataframe tbody tr th {\n",
       "        vertical-align: top;\n",
       "    }\n",
       "\n",
       "    .dataframe thead th {\n",
       "        text-align: right;\n",
       "    }\n",
       "</style>\n",
       "<table border=\"1\" class=\"dataframe\">\n",
       "  <thead>\n",
       "    <tr style=\"text-align: right;\">\n",
       "      <th></th>\n",
       "      <th></th>\n",
       "      <th>Survived</th>\n",
       "    </tr>\n",
       "    <tr>\n",
       "      <th>Sex</th>\n",
       "      <th>Pclass</th>\n",
       "      <th></th>\n",
       "    </tr>\n",
       "  </thead>\n",
       "  <tbody>\n",
       "    <tr>\n",
       "      <th rowspan=\"3\" valign=\"top\">female</th>\n",
       "      <th>1</th>\n",
       "      <td>0.968085</td>\n",
       "    </tr>\n",
       "    <tr>\n",
       "      <th>2</th>\n",
       "      <td>0.921053</td>\n",
       "    </tr>\n",
       "    <tr>\n",
       "      <th>3</th>\n",
       "      <td>0.500000</td>\n",
       "    </tr>\n",
       "    <tr>\n",
       "      <th rowspan=\"3\" valign=\"top\">male</th>\n",
       "      <th>1</th>\n",
       "      <td>0.368852</td>\n",
       "    </tr>\n",
       "    <tr>\n",
       "      <th>2</th>\n",
       "      <td>0.157407</td>\n",
       "    </tr>\n",
       "    <tr>\n",
       "      <th>3</th>\n",
       "      <td>0.137026</td>\n",
       "    </tr>\n",
       "  </tbody>\n",
       "</table>\n",
       "</div>"
      ],
      "text/plain": [
       "               Survived\n",
       "Sex    Pclass          \n",
       "female 1       0.968085\n",
       "       2       0.921053\n",
       "       3       0.500000\n",
       "male   1       0.368852\n",
       "       2       0.157407\n",
       "       3       0.137026"
      ]
     },
     "execution_count": 11,
     "metadata": {},
     "output_type": "execute_result"
    }
   ],
   "source": [
    "# The relationship of survival rate and passenger class (Pivot table)\n",
    "table = pd.pivot_table(df,index=['Sex','Pclass'],values=['Survived'], aggfunc=np.mean)\n",
    "table"
   ]
  },
  {
   "cell_type": "code",
   "execution_count": 12,
   "metadata": {},
   "outputs": [
    {
     "data": {
      "image/png": "[encoded data removed]",
      "text/plain": [
       "<Figure size 432x288 with 1 Axes>"
      ]
     },
     "metadata": {
      "needs_background": "light"
     },
     "output_type": "display_data"
    }
   ],
   "source": [
    "table.plot(kind='bar');"
   ]
  },
  {
   "cell_type": "code",
   "execution_count": 1,
   "metadata": {},
   "outputs": [],
   "source": [
    "#analysis: \n",
    "#1. The survival rate of passengers decreased with a degrading Pclass among both the genders,\n",
    "#2. The survival rate of male passengers was lower than the female passengers in any given Pclass."
   ]
  },
  {
   "cell_type": "code",
   "execution_count": null,
   "metadata": {},
   "outputs": [],
   "source": []
  }
 ],
 "metadata": {
  "interpreter": {
   "hash": "b0fa6594d8f4cbf19f97940f81e996739fb7646882a419484c72d19e05852a7e"
  },
  "kernelspec": {
   "display_name": "Python 3 (ipykernel)",
   "language": "python",
   "name": "python3"
  },
  "language_info": {
   "codemirror_mode": {
    "name": "ipython",
    "version": 3
   },
   "file_extension": ".py",
   "mimetype": "text/x-python",
   "name": "python",
   "nbconvert_exporter": "python",
   "pygments_lexer": "ipython3",
   "version": "3.9.7"
  }
 },
 "nbformat": 4,
 "nbformat_minor": 2
}
